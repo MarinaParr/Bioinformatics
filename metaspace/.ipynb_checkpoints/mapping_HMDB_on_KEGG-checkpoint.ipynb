{
 "cells": [
  {
   "cell_type": "code",
   "execution_count": 1,
   "metadata": {},
   "outputs": [
    {
     "name": "stdout",
     "output_type": "stream",
     "text": [
      "Email: \n",
      "Password: ········\n"
     ]
    }
   ],
   "source": [
    "import getpass\n",
    "#Authorization\n",
    "#If your datasets are not private you can skip this step.\n",
    "email = input('Email: ')\n",
    "password = getpass.getpass(prompt='Password: ', stream=None)"
   ]
  },
  {
   "cell_type": "code",
   "execution_count": 3,
   "metadata": {},
   "outputs": [
    {
     "name": "stdout",
     "output_type": "stream",
     "text": [
      "Servier_Ctrl_mouse_wb_median_plane_DHB\n"
     ]
    }
   ],
   "source": [
    "#Names of the datasets in METASPACE. Names should be separated with comma. \n",
    "#Example: 24062018_VS_denseII_A_B_NEDC_9AA_CHCA_DHB_D,Servier_Ctrl_mouse_wb_median_plane_DHB\n",
    "names = str(input())"
   ]
  },
  {
   "cell_type": "code",
   "execution_count": 8,
   "metadata": {},
   "outputs": [
    {
     "name": "stdout",
     "output_type": "stream",
     "text": [
      "0.1\n"
     ]
    }
   ],
   "source": [
    "#The cut-off for the FDR value. \n",
    "#Metabolites with FDR >= cut-off won't be shown. Float in [0,1].\n",
    "#Optional. You can skip this cut-off by putting 1 here.\n",
    "#Example: 0.1\n",
    "cutoff = float(input())"
   ]
  },
  {
   "cell_type": "code",
   "execution_count": 5,
   "metadata": {},
   "outputs": [
    {
     "name": "stdout",
     "output_type": "stream",
     "text": [
      "\n"
     ]
    }
   ],
   "source": [
    "#Property_for_radius\n",
    "#What property of metabolite to display as radius. Can be \"fdr\", \"msm\", \"intensity\".\n",
    "#Optional. You can skip this step by pressing 'Enter' here.\n",
    "property_for_radius = str(input())"
   ]
  },
  {
   "cell_type": "code",
   "execution_count": 9,
   "metadata": {},
   "outputs": [
    {
     "name": "stdout",
     "output_type": "stream",
     "text": [
      "Unauthorized. Only public but not private datasets will be accessible.\n",
      "Authorized.\n",
      "Checking files in the directory\n",
      "All necessary files exist. Mapping starts.\n",
      "Ready. Files _data_for_ili.csv and KEGG_EC_metabolitemap_bw.png can be drag-and-dropped to ili.embl.de\n"
     ]
    }
   ],
   "source": [
    "from creating_files_for_ili import main\n",
    "main(email, password, names, cutoff, property_for_radius)"
   ]
  },
  {
   "cell_type": "code",
   "execution_count": null,
   "metadata": {},
   "outputs": [],
   "source": []
  }
 ],
 "metadata": {
  "kernelspec": {
   "display_name": "Python 3",
   "language": "python",
   "name": "python3"
  },
  "language_info": {
   "codemirror_mode": {
    "name": "ipython",
    "version": 3
   },
   "file_extension": ".py",
   "mimetype": "text/x-python",
   "name": "python",
   "nbconvert_exporter": "python",
   "pygments_lexer": "ipython3",
   "version": "3.6.6"
  }
 },
 "nbformat": 4,
 "nbformat_minor": 1
}
